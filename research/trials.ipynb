{
 "cells": [
  {
   "cell_type": "markdown",
   "metadata": {},
   "source": [
    "Downloading Chest CT scan data"
   ]
  },
  {
   "cell_type": "code",
   "execution_count": 2,
   "metadata": {},
   "outputs": [],
   "source": [
    "import gdown"
   ]
  },
  {
   "cell_type": "code",
   "execution_count": 8,
   "metadata": {},
   "outputs": [
    {
     "name": "stderr",
     "output_type": "stream",
     "text": [
      "Downloading...\n",
      "From (original): https://drive.google.com/uc?/export=download&id=1MMROVa_q7aDqWmRvPfbkkISSzyusFJYp\n",
      "From (redirected): https://drive.google.com/uc?%2Fexport=download&id=1MMROVa_q7aDqWmRvPfbkkISSzyusFJYp&confirm=t&uuid=c0daf33f-eeb8-4284-b3f2-8e37e9b74d70\n",
      "To: /Users/vamshika/Cancer-Classification-MLFlow-DVC/research/Chest-Ct-Scan-Data.zip\n",
      "100%|██████████| 49.0M/49.0M [00:01<00:00, 27.4MB/s]\n"
     ]
    },
    {
     "data": {
      "text/plain": [
       "'Chest-Ct-Scan-Data.zip'"
      ]
     },
     "execution_count": 8,
     "metadata": {},
     "output_type": "execute_result"
    }
   ],
   "source": [
    "url = \"https://drive.google.com/file/d/1MMROVa_q7aDqWmRvPfbkkISSzyusFJYp/view?usp=sharing\"\n",
    "prefix = \"https://drive.google.com/uc?/export=download&id=\"\n",
    "file_id = url.split(\"/\")[-2]\n",
    "\n",
    "gdown.download(prefix+file_id,\"Chest-Ct-Scan-Data.zip\")"
   ]
  },
  {
   "cell_type": "code",
   "execution_count": null,
   "metadata": {},
   "outputs": [],
   "source": []
  }
 ],
 "metadata": {
  "kernelspec": {
   "display_name": "cancer",
   "language": "python",
   "name": "python3"
  },
  "language_info": {
   "codemirror_mode": {
    "name": "ipython",
    "version": 3
   },
   "file_extension": ".py",
   "mimetype": "text/x-python",
   "name": "python",
   "nbconvert_exporter": "python",
   "pygments_lexer": "ipython3",
   "version": "3.8.20"
  }
 },
 "nbformat": 4,
 "nbformat_minor": 2
}
